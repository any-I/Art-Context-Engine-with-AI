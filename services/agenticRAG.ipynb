{
 "cells": [
  {
   "cell_type": "code",
   "id": "initial_id",
   "metadata": {
    "collapsed": true,
    "ExecuteTime": {
     "end_time": "2025-02-22T00:12:35.890548Z",
     "start_time": "2025-02-22T00:12:34.730114Z"
    }
   },
   "source": [
    "from fastapi import FastAPI\n",
    "from dotenv import load_dotenv\n",
    "\n",
    "from huggingface_hub import login\n",
    "from smolagents import CodeAgent, DuckDuckGoSearchTool, HfApiModel, ToolCallingAgent, PythonInterpreterTool\n",
    "\n",
    "import os\n",
    "import openai"
   ],
   "outputs": [],
   "execution_count": 1
  },
  {
   "metadata": {
    "ExecuteTime": {
     "end_time": "2025-02-22T00:12:36.271867Z",
     "start_time": "2025-02-22T00:12:36.266261Z"
    }
   },
   "cell_type": "code",
   "source": "os.getcwd()",
   "id": "a2d17e1f1657985",
   "outputs": [
    {
     "data": {
      "text/plain": [
       "'/Users/kevinguo/Downloads/School/Sp2025/CSCI401/Art-Context-Engine-with-AI/services'"
      ]
     },
     "execution_count": 2,
     "metadata": {},
     "output_type": "execute_result"
    }
   ],
   "execution_count": 2
  },
  {
   "metadata": {
    "ExecuteTime": {
     "end_time": "2025-02-22T00:12:36.703350Z",
     "start_time": "2025-02-22T00:12:36.700760Z"
    }
   },
   "cell_type": "code",
   "source": [
    "load_dotenv()\n",
    "app = FastAPI()"
   ],
   "id": "5179830e76f5cae6",
   "outputs": [],
   "execution_count": 3
  },
  {
   "metadata": {
    "ExecuteTime": {
     "end_time": "2025-02-22T00:12:37.100441Z",
     "start_time": "2025-02-22T00:12:37.098513Z"
    }
   },
   "cell_type": "code",
   "source": [
    "HF_API_TOKEN = os.getenv(\"HF_API_TOKEN\")\n",
    "OPENAI_API_KEY = os.getenv(\"OPENAI_API_KEY\")\n",
    "if not OPENAI_API_KEY: raise ValueError(\"Missing or incorrect OpenAI API Key.\")\n",
    "if not HF_API_TOKEN: raise ValueError(\"Missing or incorrect HF API Token.\")"
   ],
   "id": "907f1946a8fd8164",
   "outputs": [],
   "execution_count": 4
  },
  {
   "metadata": {
    "ExecuteTime": {
     "end_time": "2025-02-22T00:12:37.806911Z",
     "start_time": "2025-02-22T00:12:37.615342Z"
    }
   },
   "cell_type": "code",
   "source": [
    "openAIClient = openai.OpenAI(api_key=OPENAI_API_KEY)\n",
    "HFlogin = login(token=HF_API_TOKEN)"
   ],
   "id": "22a5c2e19e97c9d7",
   "outputs": [],
   "execution_count": 5
  },
  {
   "metadata": {
    "ExecuteTime": {
     "end_time": "2025-02-22T00:12:38.592858Z",
     "start_time": "2025-02-22T00:12:38.589959Z"
    }
   },
   "cell_type": "code",
   "source": [
    "# model_id = \"meta-llama/Llama-3.3-70B-Instruct\"\n",
    "# model = HfApiModel(model_id=model_id)\n",
    "model = HfApiModel()"
   ],
   "id": "d9fd1e2bd0771450",
   "outputs": [],
   "execution_count": 6
  },
  {
   "metadata": {
    "ExecuteTime": {
     "end_time": "2025-02-22T00:18:49.848916Z",
     "start_time": "2025-02-22T00:18:49.814083Z"
    }
   },
   "cell_type": "code",
   "source": [
    "agent = ToolCallingAgent(\n",
    "    tools=[DuckDuckGoSearchTool(), PythonInterpreterTool()],\n",
    "    model=model,\n",
    ")"
   ],
   "id": "bf58daa6924ad036",
   "outputs": [],
   "execution_count": 11
  },
  {
   "metadata": {
    "ExecuteTime": {
     "end_time": "2025-02-22T00:23:52.687572Z",
     "start_time": "2025-02-22T00:23:12.030166Z"
    }
   },
   "cell_type": "code",
   "source": [
    "# text = agent.prompt_templates[\"system_prompt\"]\n",
    "#\n",
    "# with open(\"system_prompt.txt\", \"w\", encoding=\"utf-8\") as file:\n",
    "#     file.write(text)\n",
    "#\n",
    "# print(\"File written successfully.\")\n",
    "\n",
    "\n",
    "file = open(\"system_prompt.txt\", \"r\", encoding=\"utf-8\")\n",
    "content = file.read()\n",
    "\n",
    "agent.prompt_templates[\"system_prompt\"] = content\n",
    "# print(agent.prompt_templates[\"system_prompt\"])\n",
    "# # from Michaelangelo: history, political background -> chatgpt ask for query for agent ai -> Michelangelo history and political background: Explore Michelangelo Buonarroti's historical context, including his political influences, affiliations, and impact of Renaissance politics on his work.\n",
    "client_prompt = \"Explore Michelangelo Buonarroti's historical context, including his political influences, affiliations, and impact of Renaissance politics on his work. Make sure to cite sources!\"\n",
    "response = agent.run(client_prompt)"
   ],
   "id": "329f6f47aafed10e",
   "outputs": [
    {
     "data": {
      "text/plain": [
       "\u001B[38;2;212;183;2m╭─\u001B[0m\u001B[38;2;212;183;2m───────────────────────────────────────────────────\u001B[0m\u001B[38;2;212;183;2m \u001B[0m\u001B[1;38;2;212;183;2mNew run\u001B[0m\u001B[38;2;212;183;2m \u001B[0m\u001B[38;2;212;183;2m───────────────────────────────────────────────────\u001B[0m\u001B[38;2;212;183;2m─╮\u001B[0m\n",
       "\u001B[38;2;212;183;2m│\u001B[0m                                                                                                                 \u001B[38;2;212;183;2m│\u001B[0m\n",
       "\u001B[38;2;212;183;2m│\u001B[0m \u001B[1mExplore Michelangelo Buonarroti's historical context, including his political influences, affiliations, and \u001B[0m    \u001B[38;2;212;183;2m│\u001B[0m\n",
       "\u001B[38;2;212;183;2m│\u001B[0m \u001B[1mimpact of Renaissance politics on his work. Make sure to cite sources!\u001B[0m                                          \u001B[38;2;212;183;2m│\u001B[0m\n",
       "\u001B[38;2;212;183;2m│\u001B[0m                                                                                                                 \u001B[38;2;212;183;2m│\u001B[0m\n",
       "\u001B[38;2;212;183;2m╰─\u001B[0m\u001B[38;2;212;183;2m HfApiModel - Qwen/Qwen2.5-Coder-32B-Instruct \u001B[0m\u001B[38;2;212;183;2m─────────────────────────────────────────────────────────────────\u001B[0m\u001B[38;2;212;183;2m─╯\u001B[0m\n"
      ],
      "text/html": [
       "<pre style=\"white-space:pre;overflow-x:auto;line-height:normal;font-family:Menlo,'DejaVu Sans Mono',consolas,'Courier New',monospace\"><span style=\"color: #d4b702; text-decoration-color: #d4b702\">╭──────────────────────────────────────────────────── </span><span style=\"color: #d4b702; text-decoration-color: #d4b702; font-weight: bold\">New run</span><span style=\"color: #d4b702; text-decoration-color: #d4b702\"> ────────────────────────────────────────────────────╮</span>\n",
       "<span style=\"color: #d4b702; text-decoration-color: #d4b702\">│</span>                                                                                                                 <span style=\"color: #d4b702; text-decoration-color: #d4b702\">│</span>\n",
       "<span style=\"color: #d4b702; text-decoration-color: #d4b702\">│</span> <span style=\"font-weight: bold\">Explore Michelangelo Buonarroti's historical context, including his political influences, affiliations, and </span>    <span style=\"color: #d4b702; text-decoration-color: #d4b702\">│</span>\n",
       "<span style=\"color: #d4b702; text-decoration-color: #d4b702\">│</span> <span style=\"font-weight: bold\">impact of Renaissance politics on his work. Make sure to cite sources!</span>                                          <span style=\"color: #d4b702; text-decoration-color: #d4b702\">│</span>\n",
       "<span style=\"color: #d4b702; text-decoration-color: #d4b702\">│</span>                                                                                                                 <span style=\"color: #d4b702; text-decoration-color: #d4b702\">│</span>\n",
       "<span style=\"color: #d4b702; text-decoration-color: #d4b702\">╰─ HfApiModel - Qwen/Qwen2.5-Coder-32B-Instruct ──────────────────────────────────────────────────────────────────╯</span>\n",
       "</pre>\n"
      ]
     },
     "metadata": {},
     "output_type": "display_data"
    },
    {
     "data": {
      "text/plain": [
       "\u001B[38;2;212;183;2m━━━━━━━━━━━━━━━━━━━━━━━━━━━━━━━━━━━━━━━━━━━━━━━━━━━━━ \u001B[0m\u001B[1mStep \u001B[0m\u001B[1;36m1\u001B[0m\u001B[38;2;212;183;2m ━━━━━━━━━━━━━━━━━━━━━━━━━━━━━━━━━━━━━━━━━━━━━━━━━━━━━━\u001B[0m\n"
      ],
      "text/html": [
       "<pre style=\"white-space:pre;overflow-x:auto;line-height:normal;font-family:Menlo,'DejaVu Sans Mono',consolas,'Courier New',monospace\"><span style=\"color: #d4b702; text-decoration-color: #d4b702\">━━━━━━━━━━━━━━━━━━━━━━━━━━━━━━━━━━━━━━━━━━━━━━━━━━━━━ </span><span style=\"font-weight: bold\">Step </span><span style=\"color: #008080; text-decoration-color: #008080; font-weight: bold\">1</span><span style=\"color: #d4b702; text-decoration-color: #d4b702\"> ━━━━━━━━━━━━━━━━━━━━━━━━━━━━━━━━━━━━━━━━━━━━━━━━━━━━━━</span>\n",
       "</pre>\n"
      ]
     },
     "metadata": {},
     "output_type": "display_data"
    },
    {
     "data": {
      "text/plain": [
       "╭─────────────────────────────────────────────────────────────────────────────────────────────────────────────────╮\n",
       "│ Calling tool: 'web_search' with arguments: {'query': \"Michelangelo Buonarroti's political influences            │\n",
       "│ affiliations Renaissance politics impact on his work\"}                                                          │\n",
       "╰─────────────────────────────────────────────────────────────────────────────────────────────────────────────────╯\n"
      ],
      "text/html": [
       "<pre style=\"white-space:pre;overflow-x:auto;line-height:normal;font-family:Menlo,'DejaVu Sans Mono',consolas,'Courier New',monospace\">╭─────────────────────────────────────────────────────────────────────────────────────────────────────────────────╮\n",
       "│ Calling tool: 'web_search' with arguments: {'query': \"Michelangelo Buonarroti's political influences            │\n",
       "│ affiliations Renaissance politics impact on his work\"}                                                          │\n",
       "╰─────────────────────────────────────────────────────────────────────────────────────────────────────────────────╯\n",
       "</pre>\n"
      ]
     },
     "metadata": {},
     "output_type": "display_data"
    },
    {
     "data": {
      "text/plain": [
       "Observations: ## Search Results\n",
       "\n",
       "|Michelangelo's Conflicts with Politics and Religion - \n",
       "HowStuffWorks\u001B[1m]\u001B[0m\u001B[1m(\u001B[0m\u001B[4;94mhttps://entertainment.howstuffworks.com/arts/artwork/michelangelo-biography4.htm\u001B[0m\u001B[4;94m)\u001B[0m\n",
       "But his work was interrupted by political unrest so intense that it endangered his life and caused a brief exile in\n",
       "Venice. Further, the Michelangelo's vision for the chapel underwent constant alterations, and his advancing age \n",
       "brought infirmities that were compounded by a life of hard physical labor.\n",
       "\n",
       "|Michelangelo Buonarroti - Renaissance and Reformation - Oxford \n",
       "\u001B[33m...\u001B[0m\u001B[1m]\u001B[0m\u001B[1m(\u001B[0m\u001B[4;94mhttps://www.oxfordbibliographies.com/abstract/document/obo-9780195399301/obo-9780195399301-0103.xml\u001B[0m\u001B[4;94m)\u001B[0m\n",
       "Introduction. Michelangelo Buonarroti \u001B[1m(\u001B[0mb. \u001B[1;36m1475\u001B[0m-d. \u001B[1;36m1564\u001B[0m\u001B[1m)\u001B[0m is universally recognized to be among the greatest artists \n",
       "of all time. His life extended from the glories of Renaissance Florence and the discovery of the New World to the \n",
       "first stirrings of the Counter-Reformation—nearly eighty-nine years, and twice as long as most of his \n",
       "contemporaries.\n",
       "\n",
       "|Michelangelo's Enduring Influence: How His Art Shapes Our World \n",
       "T\u001B[1m]\u001B[0m\u001B[1m(\u001B[0m\u001B[4;94mhttps://toxigon.com/the-enduring-influence-of-michelangelo\u001B[0m\u001B[4;94m)\u001B[0m\n",
       "Born Michelangelo di Lodovico Buonarroti Simoni, this Italian sculptor, painter, architect, and poet left an \n",
       "indelible mark on the world of art. But his influence doesn't just stop at his incredible body of work. Even today,\n",
       "in \u001B[1;36m2025\u001B[0m, Michelangelo's impact is felt across various disciplines, from architecture to pop culture.\n",
       "\n",
       "|World History Unit \u001B[1;36m5\u001B[0m: Renaissance and Reformation \n",
       "Flashcards\u001B[1m]\u001B[0m\u001B[1m(\u001B[0m\u001B[4;94mhttps://quizlet.com/514337957/world-history-unit-5-renaissance-and-reformation-flash-cards/\u001B[0m\u001B[4;94m)\u001B[0m\n",
       "He was a Renaissance political philosopher, statesman, and writer. His most famous work was a guide for rulers on \n",
       "how to gain and keep power. The Prince was realistic about political power. Machiavelli argued that the end \n",
       "justified the means in politics. \u001B[33m...\u001B[0m Michelangelo Buonarroti \u001B[1m(\u001B[0m\u001B[1;36m1475\u001B[0m-\u001B[1;36m1564\u001B[0m\u001B[1m)\u001B[0m was an Italian painter also known for his \n",
       "sculpture \u001B[33m...\u001B[0m\n",
       "\n",
       "|Michelangelo - Life and Monumental Contributions during the Renaissance \n",
       "\u001B[33m...\u001B[0m\u001B[1m]\u001B[0m\u001B[1m(\u001B[0m\u001B[4;94mhttps://worldhistoryedu.com/michelangelo-life-and-contributions-to-arts-in-the-renaissance/\u001B[0m\u001B[4;94m)\u001B[0m\n",
       "So did Michelangelo. He made his way to Bologna when the Medici lost control of Florence. The new rulers were a bit\n",
       "too anti-Renaissance for Michelangelo's liking. Time in Bologna. In Bologna, Michelangelo secured a commission to \n",
       "finish the incomplete work of a famous sculptor who had died. The project was the tomb of St. Dominic.\n",
       "\n",
       "|The Influence of Michelangelo on The Western World - \n",
       "GradesFixer\u001B[1m]\u001B[0m\u001B[1m(\u001B[0m\u001B[4;94mhttps://gradesfixer.com/free-essay-examples/the-influence-of-michelangelo-on-the-western-world/\u001B[0m\u001B[4;94m)\u001B[0m\n",
       "It offers insightful analysis into how his work symbolized the cultural rebirth of the Renaissance era. However, \n",
       "while informative, the essay could benefit from deeper critical engagement with Michelangelo's influence on \n",
       "contemporary art and a more nuanced exploration of how historical context shaped his work.\n",
       "\n",
       "|How Did Michelangelo Contribute to the Renaissance? - \n",
       "Reference.com\u001B[1m]\u001B[0m\u001B[1m(\u001B[0m\u001B[4;94mhttps://www.reference.com/world-view/did-michelangelo-contribute-renaissance-bbc9348745cbb89b\u001B[0m\u001B[4;94m)\u001B[0m\n",
       "In \u001B[1;36m1501\u001B[0m, Michelangelo sculpted the David for Florence's Duomo. The depiction is Michelangelo's take on David from \n",
       "the Old Testament, and the sculpture is considered nearly perfect, among academics. The ceiling of the Sistine \n",
       "Chapel was supposed to be a painting of the \u001B[1;36m12\u001B[0m apostles, but Michelangelo had other plans.\n",
       "\n",
       "|Michelangelo | Life, Works & Legacy Of The Renaissance Artist \n",
       "\u001B[33m...\u001B[0m\u001B[1m]\u001B[0m\u001B[1m(\u001B[0m\u001B[4;94mhttps://www.historyextra.com/period/renaissance/michelangelo-renaissance-polymath-artist-sculptor-life-works-l\u001B[0m\n",
       "\u001B[4;94megacy/\u001B[0m\u001B[4;94m)\u001B[0m\n",
       "Michelangelo di Lodovico Buonarroti Simoni - better known simply as Michelangelo - was an Italian Renaissance \n",
       "polymath whose iconic sculptures, paintings, architecture and poetry had a profound influence on Western art. Works\n",
       "like the marble statue of David or his awe-inspiring ceiling for the \u001B[33m...\u001B[0m\n",
       "\n",
       "|World History Chapter \u001B[1;36m10\u001B[0m- The Renaissance and Reformation - \n",
       "Quizlet\u001B[1m]\u001B[0m\u001B[1m(\u001B[0m\u001B[4;94mhttps://quizlet.com/131023695/world-history-chapter-10-the-renaissance-and-reformation-flash-cards/\u001B[0m\u001B[4;94m)\u001B[0m\n",
       "Michelangelo Buonarroti \u001B[1m(\u001B[0m\u001B[1;36m1475\u001B[0m-\u001B[1;36m1564\u001B[0m\u001B[1m)\u001B[0m was an Italian painter also known for his sculpture, engineering, architecture,\n",
       "and poems. \u001B[33m...\u001B[0m He was a Renaissance political philosopher, statesman, and writer. His most famous work was a guide \n",
       "for rulers on how to gain and keep power. The Prince was realistic about political power. He argued that the end \n",
       "\u001B[33m...\u001B[0m\n",
       "\n",
       "|The Renaissance: Cultural, Political, and Religious \u001B[33m...\u001B[0m - \n",
       "Quizlet\u001B[1m]\u001B[0m\u001B[1m(\u001B[0m\u001B[4;94mhttps://quizlet.com/study-guides/the-renaissance-cultural-political-and-religious-transformat-ba2d5b6d-491\u001B[0m\n",
       "\u001B[4;94md-4d59-8d6a-9e8956ac8e4a\u001B[0m\u001B[4;94m)\u001B[0m\n",
       "This blend of art and politics created a unique environment in Florence, where cultural achievements were closely \n",
       "tied to the family's political ambitions. The Medici's impact extended beyond Florence, as their connections with \n",
       "other Italian city-states and European courts facilitated the spread of Renaissance ideas.\n"
      ],
      "text/html": [
       "<pre style=\"white-space:pre;overflow-x:auto;line-height:normal;font-family:Menlo,'DejaVu Sans Mono',consolas,'Courier New',monospace\">Observations: ## Search Results\n",
       "\n",
       "|Michelangelo's Conflicts with Politics and Religion - \n",
       "HowStuffWorks<span style=\"font-weight: bold\">](</span><span style=\"color: #0000ff; text-decoration-color: #0000ff; text-decoration: underline\">https://entertainment.howstuffworks.com/arts/artwork/michelangelo-biography4.htm)</span>\n",
       "But his work was interrupted by political unrest so intense that it endangered his life and caused a brief exile in\n",
       "Venice. Further, the Michelangelo's vision for the chapel underwent constant alterations, and his advancing age \n",
       "brought infirmities that were compounded by a life of hard physical labor.\n",
       "\n",
       "|Michelangelo Buonarroti - Renaissance and Reformation - Oxford \n",
       "<span style=\"color: #808000; text-decoration-color: #808000\">...</span><span style=\"font-weight: bold\">](</span><span style=\"color: #0000ff; text-decoration-color: #0000ff; text-decoration: underline\">https://www.oxfordbibliographies.com/abstract/document/obo-9780195399301/obo-9780195399301-0103.xml)</span>\n",
       "Introduction. Michelangelo Buonarroti <span style=\"font-weight: bold\">(</span>b. <span style=\"color: #008080; text-decoration-color: #008080; font-weight: bold\">1475</span>-d. <span style=\"color: #008080; text-decoration-color: #008080; font-weight: bold\">1564</span><span style=\"font-weight: bold\">)</span> is universally recognized to be among the greatest artists \n",
       "of all time. His life extended from the glories of Renaissance Florence and the discovery of the New World to the \n",
       "first stirrings of the Counter-Reformation—nearly eighty-nine years, and twice as long as most of his \n",
       "contemporaries.\n",
       "\n",
       "|Michelangelo's Enduring Influence: How His Art Shapes Our World \n",
       "T<span style=\"font-weight: bold\">](</span><span style=\"color: #0000ff; text-decoration-color: #0000ff; text-decoration: underline\">https://toxigon.com/the-enduring-influence-of-michelangelo)</span>\n",
       "Born Michelangelo di Lodovico Buonarroti Simoni, this Italian sculptor, painter, architect, and poet left an \n",
       "indelible mark on the world of art. But his influence doesn't just stop at his incredible body of work. Even today,\n",
       "in <span style=\"color: #008080; text-decoration-color: #008080; font-weight: bold\">2025</span>, Michelangelo's impact is felt across various disciplines, from architecture to pop culture.\n",
       "\n",
       "|World History Unit <span style=\"color: #008080; text-decoration-color: #008080; font-weight: bold\">5</span>: Renaissance and Reformation \n",
       "Flashcards<span style=\"font-weight: bold\">](</span><span style=\"color: #0000ff; text-decoration-color: #0000ff; text-decoration: underline\">https://quizlet.com/514337957/world-history-unit-5-renaissance-and-reformation-flash-cards/)</span>\n",
       "He was a Renaissance political philosopher, statesman, and writer. His most famous work was a guide for rulers on \n",
       "how to gain and keep power. The Prince was realistic about political power. Machiavelli argued that the end \n",
       "justified the means in politics. <span style=\"color: #808000; text-decoration-color: #808000\">...</span> Michelangelo Buonarroti <span style=\"font-weight: bold\">(</span><span style=\"color: #008080; text-decoration-color: #008080; font-weight: bold\">1475</span>-<span style=\"color: #008080; text-decoration-color: #008080; font-weight: bold\">1564</span><span style=\"font-weight: bold\">)</span> was an Italian painter also known for his \n",
       "sculpture <span style=\"color: #808000; text-decoration-color: #808000\">...</span>\n",
       "\n",
       "|Michelangelo - Life and Monumental Contributions during the Renaissance \n",
       "<span style=\"color: #808000; text-decoration-color: #808000\">...</span><span style=\"font-weight: bold\">](</span><span style=\"color: #0000ff; text-decoration-color: #0000ff; text-decoration: underline\">https://worldhistoryedu.com/michelangelo-life-and-contributions-to-arts-in-the-renaissance/)</span>\n",
       "So did Michelangelo. He made his way to Bologna when the Medici lost control of Florence. The new rulers were a bit\n",
       "too anti-Renaissance for Michelangelo's liking. Time in Bologna. In Bologna, Michelangelo secured a commission to \n",
       "finish the incomplete work of a famous sculptor who had died. The project was the tomb of St. Dominic.\n",
       "\n",
       "|The Influence of Michelangelo on The Western World - \n",
       "GradesFixer<span style=\"font-weight: bold\">](</span><span style=\"color: #0000ff; text-decoration-color: #0000ff; text-decoration: underline\">https://gradesfixer.com/free-essay-examples/the-influence-of-michelangelo-on-the-western-world/)</span>\n",
       "It offers insightful analysis into how his work symbolized the cultural rebirth of the Renaissance era. However, \n",
       "while informative, the essay could benefit from deeper critical engagement with Michelangelo's influence on \n",
       "contemporary art and a more nuanced exploration of how historical context shaped his work.\n",
       "\n",
       "|How Did Michelangelo Contribute to the Renaissance? - \n",
       "Reference.com<span style=\"font-weight: bold\">](</span><span style=\"color: #0000ff; text-decoration-color: #0000ff; text-decoration: underline\">https://www.reference.com/world-view/did-michelangelo-contribute-renaissance-bbc9348745cbb89b)</span>\n",
       "In <span style=\"color: #008080; text-decoration-color: #008080; font-weight: bold\">1501</span>, Michelangelo sculpted the David for Florence's Duomo. The depiction is Michelangelo's take on David from \n",
       "the Old Testament, and the sculpture is considered nearly perfect, among academics. The ceiling of the Sistine \n",
       "Chapel was supposed to be a painting of the <span style=\"color: #008080; text-decoration-color: #008080; font-weight: bold\">12</span> apostles, but Michelangelo had other plans.\n",
       "\n",
       "|Michelangelo | Life, Works &amp; Legacy Of The Renaissance Artist \n",
       "<span style=\"color: #808000; text-decoration-color: #808000\">...</span><span style=\"font-weight: bold\">](</span><span style=\"color: #0000ff; text-decoration-color: #0000ff; text-decoration: underline\">https://www.historyextra.com/period/renaissance/michelangelo-renaissance-polymath-artist-sculptor-life-works-l</span>\n",
       "<span style=\"color: #0000ff; text-decoration-color: #0000ff; text-decoration: underline\">egacy/)</span>\n",
       "Michelangelo di Lodovico Buonarroti Simoni - better known simply as Michelangelo - was an Italian Renaissance \n",
       "polymath whose iconic sculptures, paintings, architecture and poetry had a profound influence on Western art. Works\n",
       "like the marble statue of David or his awe-inspiring ceiling for the <span style=\"color: #808000; text-decoration-color: #808000\">...</span>\n",
       "\n",
       "|World History Chapter <span style=\"color: #008080; text-decoration-color: #008080; font-weight: bold\">10</span>- The Renaissance and Reformation - \n",
       "Quizlet<span style=\"font-weight: bold\">](</span><span style=\"color: #0000ff; text-decoration-color: #0000ff; text-decoration: underline\">https://quizlet.com/131023695/world-history-chapter-10-the-renaissance-and-reformation-flash-cards/)</span>\n",
       "Michelangelo Buonarroti <span style=\"font-weight: bold\">(</span><span style=\"color: #008080; text-decoration-color: #008080; font-weight: bold\">1475</span>-<span style=\"color: #008080; text-decoration-color: #008080; font-weight: bold\">1564</span><span style=\"font-weight: bold\">)</span> was an Italian painter also known for his sculpture, engineering, architecture,\n",
       "and poems. <span style=\"color: #808000; text-decoration-color: #808000\">...</span> He was a Renaissance political philosopher, statesman, and writer. His most famous work was a guide \n",
       "for rulers on how to gain and keep power. The Prince was realistic about political power. He argued that the end \n",
       "<span style=\"color: #808000; text-decoration-color: #808000\">...</span>\n",
       "\n",
       "|The Renaissance: Cultural, Political, and Religious <span style=\"color: #808000; text-decoration-color: #808000\">...</span> - \n",
       "Quizlet<span style=\"font-weight: bold\">](</span><span style=\"color: #0000ff; text-decoration-color: #0000ff; text-decoration: underline\">https://quizlet.com/study-guides/the-renaissance-cultural-political-and-religious-transformat-ba2d5b6d-491</span>\n",
       "<span style=\"color: #0000ff; text-decoration-color: #0000ff; text-decoration: underline\">d-4d59-8d6a-9e8956ac8e4a)</span>\n",
       "This blend of art and politics created a unique environment in Florence, where cultural achievements were closely \n",
       "tied to the family's political ambitions. The Medici's impact extended beyond Florence, as their connections with \n",
       "other Italian city-states and European courts facilitated the spread of Renaissance ideas.\n",
       "</pre>\n"
      ]
     },
     "metadata": {},
     "output_type": "display_data"
    },
    {
     "data": {
      "text/plain": [
       "\u001B[2m[Step 0: Duration 1.39 seconds| Input tokens: 1,408 | Output tokens: 36]\u001B[0m\n"
      ],
      "text/html": [
       "<pre style=\"white-space:pre;overflow-x:auto;line-height:normal;font-family:Menlo,'DejaVu Sans Mono',consolas,'Courier New',monospace\"><span style=\"color: #7f7f7f; text-decoration-color: #7f7f7f\">[Step 0: Duration 1.39 seconds| Input tokens: 1,408 | Output tokens: 36]</span>\n",
       "</pre>\n"
      ]
     },
     "metadata": {},
     "output_type": "display_data"
    },
    {
     "data": {
      "text/plain": [
       "\u001B[38;2;212;183;2m━━━━━━━━━━━━━━━━━━━━━━━━━━━━━━━━━━━━━━━━━━━━━━━━━━━━━ \u001B[0m\u001B[1mStep \u001B[0m\u001B[1;36m2\u001B[0m\u001B[38;2;212;183;2m ━━━━━━━━━━━━━━━━━━━━━━━━━━━━━━━━━━━━━━━━━━━━━━━━━━━━━━\u001B[0m\n"
      ],
      "text/html": [
       "<pre style=\"white-space:pre;overflow-x:auto;line-height:normal;font-family:Menlo,'DejaVu Sans Mono',consolas,'Courier New',monospace\"><span style=\"color: #d4b702; text-decoration-color: #d4b702\">━━━━━━━━━━━━━━━━━━━━━━━━━━━━━━━━━━━━━━━━━━━━━━━━━━━━━ </span><span style=\"font-weight: bold\">Step </span><span style=\"color: #008080; text-decoration-color: #008080; font-weight: bold\">2</span><span style=\"color: #d4b702; text-decoration-color: #d4b702\"> ━━━━━━━━━━━━━━━━━━━━━━━━━━━━━━━━━━━━━━━━━━━━━━━━━━━━━━</span>\n",
       "</pre>\n"
      ]
     },
     "metadata": {},
     "output_type": "display_data"
    },
    {
     "data": {
      "text/plain": [
       "╭─────────────────────────────────────────────────────────────────────────────────────────────────────────────────╮\n",
       "│ Calling tool: 'final_answer' with arguments: {'answer': \"Michelangelo Buonarroti (1475-1564) lived during a     │\n",
       "│ tumultuous period in Renaissance Italy, marked by political upheaval and religious reform. Born in Florence,    │\n",
       "│ Michelangelo's life and work were deeply influenced by the political climate of his time. The Medici family,    │\n",
       "│ patron of the arts and champions of the Renaissance, provided him with opportunities for his artistic           │\n",
       "│ endeavors. However, when the Medicis were overthrown and anti-Renaissance rulers took power, Michelangelo faced │\n",
       "│ political risks. He sought refuge in Bologna and later in Venice, a political move that indicates the intensity │\n",
       "│ of the political atmosphere in Florence at the time.\\\\nDuring his time, Renaissance politics were characterized │\n",
       "│ by patronage, where artists relied on wealthy patrons for their financial support. Michelangelo's works, such   │\n",
       "│ as the sculpture of David and the ceiling of the Sistine Chapel, were patronized by powerful families and       │\n",
       "│ institutions, reflecting the symbiotic relationship between art and politics in the                             │\n",
       "│ Renaissance.\\\\nMichelangelo's experiences with political instability and the shifting political landscape of    │\n",
       "│ Italy influenced his work. For instance, the constant changes in patronage and the need to align with the       │\n",
       "│ preferences of various rulers necessitated adaptability in his art. The political environment also affected the │\n",
       "│ themes and subjects of his work, as he navigated the complexities of Renaissance politics to ensure the         │\n",
       "│ continuation of his projects. For example, the ceiling of the Sistine Chapel was initially intended to depict   │\n",
       "│ the 12 apostles, but Michelangelo's vision expanded to include a more complex narrative, reflecting his desire  │\n",
       "│ to assert artistic control amidst political expectations.\\\\/n**Sources:**\\\\n1. 'Michelangelo's Conflicts with   │\n",
       "│ Politics and Religion.' HowStuffWorks.                                                                          │\n",
       "│ https://entertainment.howstuffworks.com/arts/artwork/michelangelo-biography4.htm.\\\\n2. 'Michelangelo            │\n",
       "│ Buonarroti.' Oxford Bibliographies.                                                                             │\n",
       "│ https://www.oxfordbibliographies.com/abstract/document/obo-9780195399301/obo-9780195399301-0103.xml.\\\\/n3.      │\n",
       "│ 'World History Unit 5: Renaissance and Reformation.' Quizlet.                                                   │\n",
       "│ https://quizlet.com/514337957/world-history-unit-5-renaissance-and-reformation-flash-cards/.\\\\/n4.              │\n",
       "│ 'Michelangelo - Life and Monumental Contributions during the Renaissance.' WorldHistoryEdu.                     │\n",
       "│ https://worldhistoryedu.com/michelangelo-life-and-contributions-to-arts-in-the-renaissance/.\\\\/n5. 'The         │\n",
       "│ Influence of Michelangelo on The Western World.' GradesFixer.                                                   │\n",
       "│ https://gradesfixer.com/free-essay-examples/the-influence-of-michelangelo-on-the-western-world/.\\\\/n6. 'How Did │\n",
       "│ Michelangelo Contribute to the Renaissance?' Reference.com.                                                     │\n",
       "│ https://www.reference.com/world-view/did-michelangelo-contribute-renaissance-bbc934875cbb89b.\\\\/n7.             │\n",
       "│ 'Michelangelo | Life, Works & Legacy Of The Renaissance Artist ...' HistoryExtra.                               │\n",
       "│ https://www.historyextra.com/period/renaissance/michelangelo-renaissance-polymath-artist-sculptor-life-works-le │\n",
       "│ gacy/.\\\\/n8. 'The Renaissance: Cultural, Political, and Religious ...' Quizlet.                                 │\n",
       "│ https://quizlet.com/study-guides/the-renaissance-cultural-political-and-religious-transformat-ba2d5b6d-491d-4d5 │\n",
       "│ 9-8d6a-9e8956ac8e4a.\"}                                                                                          │\n",
       "╰─────────────────────────────────────────────────────────────────────────────────────────────────────────────────╯\n"
      ],
      "text/html": [
       "<pre style=\"white-space:pre;overflow-x:auto;line-height:normal;font-family:Menlo,'DejaVu Sans Mono',consolas,'Courier New',monospace\">╭─────────────────────────────────────────────────────────────────────────────────────────────────────────────────╮\n",
       "│ Calling tool: 'final_answer' with arguments: {'answer': \"Michelangelo Buonarroti (1475-1564) lived during a     │\n",
       "│ tumultuous period in Renaissance Italy, marked by political upheaval and religious reform. Born in Florence,    │\n",
       "│ Michelangelo's life and work were deeply influenced by the political climate of his time. The Medici family,    │\n",
       "│ patron of the arts and champions of the Renaissance, provided him with opportunities for his artistic           │\n",
       "│ endeavors. However, when the Medicis were overthrown and anti-Renaissance rulers took power, Michelangelo faced │\n",
       "│ political risks. He sought refuge in Bologna and later in Venice, a political move that indicates the intensity │\n",
       "│ of the political atmosphere in Florence at the time.\\\\nDuring his time, Renaissance politics were characterized │\n",
       "│ by patronage, where artists relied on wealthy patrons for their financial support. Michelangelo's works, such   │\n",
       "│ as the sculpture of David and the ceiling of the Sistine Chapel, were patronized by powerful families and       │\n",
       "│ institutions, reflecting the symbiotic relationship between art and politics in the                             │\n",
       "│ Renaissance.\\\\nMichelangelo's experiences with political instability and the shifting political landscape of    │\n",
       "│ Italy influenced his work. For instance, the constant changes in patronage and the need to align with the       │\n",
       "│ preferences of various rulers necessitated adaptability in his art. The political environment also affected the │\n",
       "│ themes and subjects of his work, as he navigated the complexities of Renaissance politics to ensure the         │\n",
       "│ continuation of his projects. For example, the ceiling of the Sistine Chapel was initially intended to depict   │\n",
       "│ the 12 apostles, but Michelangelo's vision expanded to include a more complex narrative, reflecting his desire  │\n",
       "│ to assert artistic control amidst political expectations.\\\\/n**Sources:**\\\\n1. 'Michelangelo's Conflicts with   │\n",
       "│ Politics and Religion.' HowStuffWorks.                                                                          │\n",
       "│ https://entertainment.howstuffworks.com/arts/artwork/michelangelo-biography4.htm.\\\\n2. 'Michelangelo            │\n",
       "│ Buonarroti.' Oxford Bibliographies.                                                                             │\n",
       "│ https://www.oxfordbibliographies.com/abstract/document/obo-9780195399301/obo-9780195399301-0103.xml.\\\\/n3.      │\n",
       "│ 'World History Unit 5: Renaissance and Reformation.' Quizlet.                                                   │\n",
       "│ https://quizlet.com/514337957/world-history-unit-5-renaissance-and-reformation-flash-cards/.\\\\/n4.              │\n",
       "│ 'Michelangelo - Life and Monumental Contributions during the Renaissance.' WorldHistoryEdu.                     │\n",
       "│ https://worldhistoryedu.com/michelangelo-life-and-contributions-to-arts-in-the-renaissance/.\\\\/n5. 'The         │\n",
       "│ Influence of Michelangelo on The Western World.' GradesFixer.                                                   │\n",
       "│ https://gradesfixer.com/free-essay-examples/the-influence-of-michelangelo-on-the-western-world/.\\\\/n6. 'How Did │\n",
       "│ Michelangelo Contribute to the Renaissance?' Reference.com.                                                     │\n",
       "│ https://www.reference.com/world-view/did-michelangelo-contribute-renaissance-bbc934875cbb89b.\\\\/n7.             │\n",
       "│ 'Michelangelo | Life, Works &amp; Legacy Of The Renaissance Artist ...' HistoryExtra.                               │\n",
       "│ https://www.historyextra.com/period/renaissance/michelangelo-renaissance-polymath-artist-sculptor-life-works-le │\n",
       "│ gacy/.\\\\/n8. 'The Renaissance: Cultural, Political, and Religious ...' Quizlet.                                 │\n",
       "│ https://quizlet.com/study-guides/the-renaissance-cultural-political-and-religious-transformat-ba2d5b6d-491d-4d5 │\n",
       "│ 9-8d6a-9e8956ac8e4a.\"}                                                                                          │\n",
       "╰─────────────────────────────────────────────────────────────────────────────────────────────────────────────────╯\n",
       "</pre>\n"
      ]
     },
     "metadata": {},
     "output_type": "display_data"
    },
    {
     "data": {
      "text/plain": [
       "\u001B[1;38;2;212;183;2mFinal answer: Michelangelo Buonarroti (1475-1564) lived during a tumultuous period in Renaissance Italy, marked by \u001B[0m\n",
       "\u001B[1;38;2;212;183;2mpolitical upheaval and religious reform. Born in Florence, Michelangelo's life and work were deeply influenced by \u001B[0m\n",
       "\u001B[1;38;2;212;183;2mthe political climate of his time. The Medici family, patron of the arts and champions of the Renaissance, provided\u001B[0m\n",
       "\u001B[1;38;2;212;183;2mhim with opportunities for his artistic endeavors. However, when the Medicis were overthrown and anti-Renaissance \u001B[0m\n",
       "\u001B[1;38;2;212;183;2mrulers took power, Michelangelo faced political risks. He sought refuge in Bologna and later in Venice, a political\u001B[0m\n",
       "\u001B[1;38;2;212;183;2mmove that indicates the intensity of the political atmosphere in Florence at the time.\\nDuring his time, \u001B[0m\n",
       "\u001B[1;38;2;212;183;2mRenaissance politics were characterized by patronage, where artists relied on wealthy patrons for their financial \u001B[0m\n",
       "\u001B[1;38;2;212;183;2msupport. Michelangelo's works, such as the sculpture of David and the ceiling of the Sistine Chapel, were \u001B[0m\n",
       "\u001B[1;38;2;212;183;2mpatronized by powerful families and institutions, reflecting the symbiotic relationship between art and politics in\u001B[0m\n",
       "\u001B[1;38;2;212;183;2mthe Renaissance.\\nMichelangelo's experiences with political instability and the shifting political landscape of \u001B[0m\n",
       "\u001B[1;38;2;212;183;2mItaly influenced his work. For instance, the constant changes in patronage and the need to align with the \u001B[0m\n",
       "\u001B[1;38;2;212;183;2mpreferences of various rulers necessitated adaptability in his art. The political environment also affected the \u001B[0m\n",
       "\u001B[1;38;2;212;183;2mthemes and subjects of his work, as he navigated the complexities of Renaissance politics to ensure the \u001B[0m\n",
       "\u001B[1;38;2;212;183;2mcontinuation of his projects. For example, the ceiling of the Sistine Chapel was initially intended to depict the \u001B[0m\n",
       "\u001B[1;38;2;212;183;2m12 apostles, but Michelangelo's vision expanded to include a more complex narrative, reflecting his desire to \u001B[0m\n",
       "\u001B[1;38;2;212;183;2massert artistic control amidst political expectations.\\/n**Sources:**\\n1. 'Michelangelo's Conflicts with Politics \u001B[0m\n",
       "\u001B[1;38;2;212;183;2mand Religion.' HowStuffWorks. https://entertainment.howstuffworks.com/arts/artwork/michelangelo-biography4.htm.\\n2.\u001B[0m\n",
       "\u001B[1;38;2;212;183;2m'Michelangelo Buonarroti.' Oxford Bibliographies. \u001B[0m\n",
       "\u001B[1;38;2;212;183;2mhttps://www.oxfordbibliographies.com/abstract/document/obo-9780195399301/obo-9780195399301-0103.xml.\\/n3. 'World \u001B[0m\n",
       "\u001B[1;38;2;212;183;2mHistory Unit 5: Renaissance and Reformation.' Quizlet. \u001B[0m\n",
       "\u001B[1;38;2;212;183;2mhttps://quizlet.com/514337957/world-history-unit-5-renaissance-and-reformation-flash-cards/.\\/n4. 'Michelangelo - \u001B[0m\n",
       "\u001B[1;38;2;212;183;2mLife and Monumental Contributions during the Renaissance.' WorldHistoryEdu. \u001B[0m\n",
       "\u001B[1;38;2;212;183;2mhttps://worldhistoryedu.com/michelangelo-life-and-contributions-to-arts-in-the-renaissance/.\\/n5. 'The Influence of\u001B[0m\n",
       "\u001B[1;38;2;212;183;2mMichelangelo on The Western World.' GradesFixer. \u001B[0m\n",
       "\u001B[1;38;2;212;183;2mhttps://gradesfixer.com/free-essay-examples/the-influence-of-michelangelo-on-the-western-world/.\\/n6. 'How Did \u001B[0m\n",
       "\u001B[1;38;2;212;183;2mMichelangelo Contribute to the Renaissance?' Reference.com. \u001B[0m\n",
       "\u001B[1;38;2;212;183;2mhttps://www.reference.com/world-view/did-michelangelo-contribute-renaissance-bbc934875cbb89b.\\/n7. 'Michelangelo | \u001B[0m\n",
       "\u001B[1;38;2;212;183;2mLife, Works & Legacy Of The Renaissance Artist ...' HistoryExtra. \u001B[0m\n",
       "\u001B[1;38;2;212;183;2mhttps://www.historyextra.com/period/renaissance/michelangelo-renaissance-polymath-artist-sculptor-life-works-legacy\u001B[0m\n",
       "\u001B[1;38;2;212;183;2m/.\\/n8. 'The Renaissance: Cultural, Political, and Religious ...' Quizlet. \u001B[0m\n",
       "\u001B[1;38;2;212;183;2mhttps://quizlet.com/study-guides/the-renaissance-cultural-political-and-religious-transformat-ba2d5b6d-491d-4d59-8d\u001B[0m\n",
       "\u001B[1;38;2;212;183;2m6a-9e8956ac8e4a.\u001B[0m\n"
      ],
      "text/html": [
       "<pre style=\"white-space:pre;overflow-x:auto;line-height:normal;font-family:Menlo,'DejaVu Sans Mono',consolas,'Courier New',monospace\"><span style=\"color: #d4b702; text-decoration-color: #d4b702; font-weight: bold\">Final answer: Michelangelo Buonarroti (1475-1564) lived during a tumultuous period in Renaissance Italy, marked by </span>\n",
       "<span style=\"color: #d4b702; text-decoration-color: #d4b702; font-weight: bold\">political upheaval and religious reform. Born in Florence, Michelangelo's life and work were deeply influenced by </span>\n",
       "<span style=\"color: #d4b702; text-decoration-color: #d4b702; font-weight: bold\">the political climate of his time. The Medici family, patron of the arts and champions of the Renaissance, provided</span>\n",
       "<span style=\"color: #d4b702; text-decoration-color: #d4b702; font-weight: bold\">him with opportunities for his artistic endeavors. However, when the Medicis were overthrown and anti-Renaissance </span>\n",
       "<span style=\"color: #d4b702; text-decoration-color: #d4b702; font-weight: bold\">rulers took power, Michelangelo faced political risks. He sought refuge in Bologna and later in Venice, a political</span>\n",
       "<span style=\"color: #d4b702; text-decoration-color: #d4b702; font-weight: bold\">move that indicates the intensity of the political atmosphere in Florence at the time.\\nDuring his time, </span>\n",
       "<span style=\"color: #d4b702; text-decoration-color: #d4b702; font-weight: bold\">Renaissance politics were characterized by patronage, where artists relied on wealthy patrons for their financial </span>\n",
       "<span style=\"color: #d4b702; text-decoration-color: #d4b702; font-weight: bold\">support. Michelangelo's works, such as the sculpture of David and the ceiling of the Sistine Chapel, were </span>\n",
       "<span style=\"color: #d4b702; text-decoration-color: #d4b702; font-weight: bold\">patronized by powerful families and institutions, reflecting the symbiotic relationship between art and politics in</span>\n",
       "<span style=\"color: #d4b702; text-decoration-color: #d4b702; font-weight: bold\">the Renaissance.\\nMichelangelo's experiences with political instability and the shifting political landscape of </span>\n",
       "<span style=\"color: #d4b702; text-decoration-color: #d4b702; font-weight: bold\">Italy influenced his work. For instance, the constant changes in patronage and the need to align with the </span>\n",
       "<span style=\"color: #d4b702; text-decoration-color: #d4b702; font-weight: bold\">preferences of various rulers necessitated adaptability in his art. The political environment also affected the </span>\n",
       "<span style=\"color: #d4b702; text-decoration-color: #d4b702; font-weight: bold\">themes and subjects of his work, as he navigated the complexities of Renaissance politics to ensure the </span>\n",
       "<span style=\"color: #d4b702; text-decoration-color: #d4b702; font-weight: bold\">continuation of his projects. For example, the ceiling of the Sistine Chapel was initially intended to depict the </span>\n",
       "<span style=\"color: #d4b702; text-decoration-color: #d4b702; font-weight: bold\">12 apostles, but Michelangelo's vision expanded to include a more complex narrative, reflecting his desire to </span>\n",
       "<span style=\"color: #d4b702; text-decoration-color: #d4b702; font-weight: bold\">assert artistic control amidst political expectations.\\/n**Sources:**\\n1. 'Michelangelo's Conflicts with Politics </span>\n",
       "<span style=\"color: #d4b702; text-decoration-color: #d4b702; font-weight: bold\">and Religion.' HowStuffWorks. https://entertainment.howstuffworks.com/arts/artwork/michelangelo-biography4.htm.\\n2.</span>\n",
       "<span style=\"color: #d4b702; text-decoration-color: #d4b702; font-weight: bold\">'Michelangelo Buonarroti.' Oxford Bibliographies. </span>\n",
       "<span style=\"color: #d4b702; text-decoration-color: #d4b702; font-weight: bold\">https://www.oxfordbibliographies.com/abstract/document/obo-9780195399301/obo-9780195399301-0103.xml.\\/n3. 'World </span>\n",
       "<span style=\"color: #d4b702; text-decoration-color: #d4b702; font-weight: bold\">History Unit 5: Renaissance and Reformation.' Quizlet. </span>\n",
       "<span style=\"color: #d4b702; text-decoration-color: #d4b702; font-weight: bold\">https://quizlet.com/514337957/world-history-unit-5-renaissance-and-reformation-flash-cards/.\\/n4. 'Michelangelo - </span>\n",
       "<span style=\"color: #d4b702; text-decoration-color: #d4b702; font-weight: bold\">Life and Monumental Contributions during the Renaissance.' WorldHistoryEdu. </span>\n",
       "<span style=\"color: #d4b702; text-decoration-color: #d4b702; font-weight: bold\">https://worldhistoryedu.com/michelangelo-life-and-contributions-to-arts-in-the-renaissance/.\\/n5. 'The Influence of</span>\n",
       "<span style=\"color: #d4b702; text-decoration-color: #d4b702; font-weight: bold\">Michelangelo on The Western World.' GradesFixer. </span>\n",
       "<span style=\"color: #d4b702; text-decoration-color: #d4b702; font-weight: bold\">https://gradesfixer.com/free-essay-examples/the-influence-of-michelangelo-on-the-western-world/.\\/n6. 'How Did </span>\n",
       "<span style=\"color: #d4b702; text-decoration-color: #d4b702; font-weight: bold\">Michelangelo Contribute to the Renaissance?' Reference.com. </span>\n",
       "<span style=\"color: #d4b702; text-decoration-color: #d4b702; font-weight: bold\">https://www.reference.com/world-view/did-michelangelo-contribute-renaissance-bbc934875cbb89b.\\/n7. 'Michelangelo | </span>\n",
       "<span style=\"color: #d4b702; text-decoration-color: #d4b702; font-weight: bold\">Life, Works &amp; Legacy Of The Renaissance Artist ...' HistoryExtra. </span>\n",
       "<span style=\"color: #d4b702; text-decoration-color: #d4b702; font-weight: bold\">https://www.historyextra.com/period/renaissance/michelangelo-renaissance-polymath-artist-sculptor-life-works-legacy</span>\n",
       "<span style=\"color: #d4b702; text-decoration-color: #d4b702; font-weight: bold\">/.\\/n8. 'The Renaissance: Cultural, Political, and Religious ...' Quizlet. </span>\n",
       "<span style=\"color: #d4b702; text-decoration-color: #d4b702; font-weight: bold\">https://quizlet.com/study-guides/the-renaissance-cultural-political-and-religious-transformat-ba2d5b6d-491d-4d59-8d</span>\n",
       "<span style=\"color: #d4b702; text-decoration-color: #d4b702; font-weight: bold\">6a-9e8956ac8e4a.</span>\n",
       "</pre>\n"
      ]
     },
     "metadata": {},
     "output_type": "display_data"
    },
    {
     "data": {
      "text/plain": [
       "\u001B[2m[Step 1: Duration 39.26 seconds| Input tokens: 4,066 | Output tokens: 819]\u001B[0m\n"
      ],
      "text/html": [
       "<pre style=\"white-space:pre;overflow-x:auto;line-height:normal;font-family:Menlo,'DejaVu Sans Mono',consolas,'Courier New',monospace\"><span style=\"color: #7f7f7f; text-decoration-color: #7f7f7f\">[Step 1: Duration 39.26 seconds| Input tokens: 4,066 | Output tokens: 819]</span>\n",
       "</pre>\n"
      ]
     },
     "metadata": {},
     "output_type": "display_data"
    }
   ],
   "execution_count": 16
  },
  {
   "metadata": {
    "ExecuteTime": {
     "end_time": "2025-02-22T00:23:52.713036Z",
     "start_time": "2025-02-22T00:23:52.707780Z"
    }
   },
   "cell_type": "code",
   "source": "print(response)",
   "id": "25e16c34ae74bf2c",
   "outputs": [
    {
     "name": "stdout",
     "output_type": "stream",
     "text": [
      "Michelangelo Buonarroti (1475-1564) lived during a tumultuous period in Renaissance Italy, marked by political upheaval and religious reform. Born in Florence, Michelangelo's life and work were deeply influenced by the political climate of his time. The Medici family, patron of the arts and champions of the Renaissance, provided him with opportunities for his artistic endeavors. However, when the Medicis were overthrown and anti-Renaissance rulers took power, Michelangelo faced political risks. He sought refuge in Bologna and later in Venice, a political move that indicates the intensity of the political atmosphere in Florence at the time.\\nDuring his time, Renaissance politics were characterized by patronage, where artists relied on wealthy patrons for their financial support. Michelangelo's works, such as the sculpture of David and the ceiling of the Sistine Chapel, were patronized by powerful families and institutions, reflecting the symbiotic relationship between art and politics in the Renaissance.\\nMichelangelo's experiences with political instability and the shifting political landscape of Italy influenced his work. For instance, the constant changes in patronage and the need to align with the preferences of various rulers necessitated adaptability in his art. The political environment also affected the themes and subjects of his work, as he navigated the complexities of Renaissance politics to ensure the continuation of his projects. For example, the ceiling of the Sistine Chapel was initially intended to depict the 12 apostles, but Michelangelo's vision expanded to include a more complex narrative, reflecting his desire to assert artistic control amidst political expectations.\\/n**Sources:**\\n1. 'Michelangelo's Conflicts with Politics and Religion.' HowStuffWorks. https://entertainment.howstuffworks.com/arts/artwork/michelangelo-biography4.htm.\\n2. 'Michelangelo Buonarroti.' Oxford Bibliographies. https://www.oxfordbibliographies.com/abstract/document/obo-9780195399301/obo-9780195399301-0103.xml.\\/n3. 'World History Unit 5: Renaissance and Reformation.' Quizlet. https://quizlet.com/514337957/world-history-unit-5-renaissance-and-reformation-flash-cards/.\\/n4. 'Michelangelo - Life and Monumental Contributions during the Renaissance.' WorldHistoryEdu. https://worldhistoryedu.com/michelangelo-life-and-contributions-to-arts-in-the-renaissance/.\\/n5. 'The Influence of Michelangelo on The Western World.' GradesFixer. https://gradesfixer.com/free-essay-examples/the-influence-of-michelangelo-on-the-western-world/.\\/n6. 'How Did Michelangelo Contribute to the Renaissance?' Reference.com. https://www.reference.com/world-view/did-michelangelo-contribute-renaissance-bbc934875cbb89b.\\/n7. 'Michelangelo | Life, Works & Legacy Of The Renaissance Artist ...' HistoryExtra. https://www.historyextra.com/period/renaissance/michelangelo-renaissance-polymath-artist-sculptor-life-works-legacy/.\\/n8. 'The Renaissance: Cultural, Political, and Religious ...' Quizlet. https://quizlet.com/study-guides/the-renaissance-cultural-political-and-religious-transformat-ba2d5b6d-491d-4d59-8d6a-9e8956ac8e4a.\n"
     ]
    }
   ],
   "execution_count": 17
  },
  {
   "metadata": {
    "ExecuteTime": {
     "end_time": "2025-02-21T22:37:46.863873Z",
     "start_time": "2025-02-21T22:37:40.730073Z"
    }
   },
   "cell_type": "code",
   "source": [
    "knowledge_base =\n",
    "knowledge_base = knowledge_base.filter(lambda row: row[\"source\"].startswith(\"huggingface/transformers\"))"
   ],
   "id": "db37261a8fa079cd",
   "outputs": [],
   "execution_count": 4
  },
  {
   "metadata": {
    "ExecuteTime": {
     "end_time": "2025-02-21T22:37:46.870117Z",
     "start_time": "2025-02-21T22:37:46.868033Z"
    }
   },
   "cell_type": "code",
   "source": "print(knowledge_base)",
   "id": "a91d38cf77fef670",
   "outputs": [
    {
     "name": "stdout",
     "output_type": "stream",
     "text": [
      "Dataset({\n",
      "    features: ['text', 'source'],\n",
      "    num_rows: 484\n",
      "})\n"
     ]
    }
   ],
   "execution_count": 5
  },
  {
   "metadata": {
    "ExecuteTime": {
     "end_time": "2025-02-21T22:38:05.393153Z",
     "start_time": "2025-02-21T22:38:05.380916Z"
    }
   },
   "cell_type": "code",
   "source": "knowledge_base[\"text\"][0]",
   "id": "ee4ea667b839956",
   "outputs": [
    {
     "data": {
      "text/plain": [
       "'!--Copyright 2023 The HuggingFace Team. All rights reserved.\\n\\nLicensed under the Apache License, Version 2.0 (the \"License\"); you may not use this file except in compliance with\\nthe License. You may obtain a copy of the License at\\n\\nhttp://www.apache.org/licenses/LICENSE-2.0\\n\\nUnless required by applicable law or agreed to in writing, software distributed under the License is distributed on\\nan \"AS IS\" BASIS, WITHOUT WARRANTIES OR CONDITIONS OF ANY KIND, either express or implied. See the License for the\\n\\n⚠️ Note that this file is in Markdown but contain specific syntax for our doc-builder (similar to MDX) that may not be\\nrendered properly in your Markdown viewer.\\n\\n-->\\n\\n# Training on TPU with TensorFlow\\n\\n<Tip>\\n\\nIf you don\\'t need long explanations and just want TPU code samples to get started with, check out [our TPU example notebook!](https://colab.research.google.com/github/huggingface/notebooks/blob/main/examples/tpu_training-tf.ipynb)\\n\\n</Tip>\\n\\n### What is a TPU?\\n\\nA TPU is a **Tensor Processing Unit.** They are hardware designed by Google, which are used to greatly speed up the tensor computations within neural networks, much like GPUs. They can be used for both network training and inference. They are generally accessed through Google’s cloud services, but small TPUs can also be accessed directly for free through Google Colab and Kaggle Kernels.\\n\\nBecause [all TensorFlow models in 🤗 Transformers are Keras models](https://huggingface.co/blog/tensorflow-philosophy), most of the methods in this document are generally applicable to TPU training for any Keras model! However, there are a few points that are specific to the HuggingFace ecosystem (hug-o-system?) of Transformers and Datasets, and we’ll make sure to flag them up when we get to them.\\n\\n### What kinds of TPU are available?\\n\\nNew users are often very confused by the range of TPUs, and the different ways to access them. The first key distinction to understand is the difference between **TPU Nodes** and **TPU VMs.**\\n\\nWhen you use a **TPU Node**, you are effectively indirectly accessing a remote TPU. You will need a separate VM, which will initialize your network and data pipeline and then forward them to the remote node. When you use a TPU on Google Colab, you are accessing it in the **TPU Node** style.\\n\\nUsing TPU Nodes can have some quite unexpected behaviour for people who aren’t used to them! In particular, because the TPU is located on a physically different system to the machine you’re running your Python code on, your data cannot be local to your machine - any data pipeline that loads from your machine’s internal storage will totally fail! Instead, data must be stored in Google Cloud Storage where your data pipeline can still access it, even when the pipeline is running on the remote TPU node.\\n\\n<Tip>\\n\\nIf you can fit all your data in memory as `np.ndarray` or `tf.Tensor`, then you can `fit()` on that data even when using Colab or a TPU Node, without needing to upload it to Google Cloud Storage.\\n\\n</Tip>\\n\\n<Tip>\\n\\n**🤗Specific Hugging Face Tip🤗:** The methods `Dataset.to_tf_dataset()` and its higher-level wrapper `model.prepare_tf_dataset()` , which you will see throughout our TF code examples, will both fail on a TPU Node. The reason for this is that even though they create a `tf.data.Dataset` it is not a “pure” `tf.data` pipeline and uses `tf.numpy_function` or `Dataset.from_generator()` to stream data from the underlying HuggingFace `Dataset`. This HuggingFace `Dataset` is backed by data that is on a local disc and which the remote TPU Node will not be able to read.\\n\\n</Tip>\\n\\nThe second way to access a TPU is via a **TPU VM.** When using a TPU VM, you connect directly to the machine that the TPU is attached to, much like training on a GPU VM. TPU VMs are generally easier to work with, particularly when it comes to your data pipeline. All of the above warnings do not apply to TPU VMs!\\n\\nThis is an opinionated document, so here’s our opinion: **Avoid using TPU Node if possible.** It is more confusing and more difficult to debug than TPU VMs. It is also likely to be unsupported in future - Google’s latest TPU, TPUv4, can only be accessed as a TPU VM, which suggests that TPU Nodes are increasingly going to become a “legacy” access method. However, we understand that the only free TPU access is on Colab and Kaggle Kernels, which uses TPU Node - so we’ll try to explain how to handle it if you have to! Check the [TPU example notebook](https://colab.research.google.com/github/huggingface/notebooks/blob/main/examples/tpu_training-tf.ipynb) for code samples that explain this in more detail.\\n\\n### What sizes of TPU are available?\\n\\nA single TPU (a v2-8/v3-8/v4-8) runs 8 replicas. TPUs exist in **pods** that can run hundreds or thousands of replicas simultaneously. When you use more than a single TPU but less than a whole pod (for example, a v3-32), your TPU fleet is referred to as a **pod slice.**\\n\\nWhen you access a free TPU via Colab, you generally get a single v2-8 TPU.\\n\\n### I keep hearing about this XLA thing. What’s XLA, and how does it relate to TPUs?\\n\\nXLA is an optimizing compiler, used by both TensorFlow and JAX. In JAX it is the only compiler, whereas in TensorFlow it is optional (but mandatory on TPU!). The easiest way to enable it when training a Keras model is to pass the argument `jit_compile=True` to `model.compile()`. If you don’t get any errors and performance is good, that’s a great sign that you’re ready to move to TPU!\\n\\nDebugging on TPU is generally a bit harder than on CPU/GPU, so we recommend getting your code running on CPU/GPU with XLA first before trying it on TPU. You don’t have to train for long, of course - just for a few steps to make sure that your model and data pipeline are working like you expect them to.\\n\\n<Tip>\\n\\nXLA compiled code is usually faster - so even if you’re not planning to run on TPU, adding `jit_compile=True` can improve your performance. Be sure to note the caveats below about XLA compatibility, though!\\n\\n</Tip>\\n\\n<Tip warning={true}>\\n\\n**Tip born of painful experience:** Although using `jit_compile=True` is a good way to get a speed boost and test if your CPU/GPU code is XLA-compatible, it can actually cause a lot of problems if you leave it in when actually training on TPU. XLA compilation will happen implicitly on TPU, so remember to remove that line before actually running your code on a TPU!\\n\\n</Tip>\\n\\n### How do I make my model XLA compatible?\\n\\nIn many cases, your code is probably XLA-compatible already! However, there are a few things that work in normal TensorFlow that don’t work in XLA. We’ve distilled them into three core rules below:\\n\\n<Tip>\\n\\n**🤗Specific HuggingFace Tip🤗:** We’ve put a lot of effort into rewriting our TensorFlow models and loss functions to be XLA-compatible. Our models and loss functions generally obey rule #1 and #2 by default, so you can skip over them if you’re using `transformers` models. Don’t forget about these rules when writing your own models and loss functions, though!\\n\\n</Tip>\\n\\n#### XLA Rule #1: Your code cannot have “data-dependent conditionals”\\n\\nWhat that means is that any `if` statement cannot depend on values inside a `tf.Tensor`. For example, this code block cannot be compiled with XLA!\\n\\n```python\\nif tf.reduce_sum(tensor) > 10:\\n    tensor = tensor / 2.0\\n```\\n\\nThis might seem very restrictive at first, but most neural net code doesn’t need to do this. You can often get around this restriction by using `tf.cond` (see the documentation [here](https://www.tensorflow.org/api_docs/python/tf/cond)) or by removing the conditional and finding a clever math trick with indicator variables instead, like so:\\n\\n```python\\nsum_over_10 = tf.cast(tf.reduce_sum(tensor) > 10, tf.float32)\\ntensor = tensor / (1.0 + sum_over_10)\\n```\\n\\nThis code has exactly the same effect as the code above, but by avoiding a conditional, we ensure it will compile with XLA without problems!\\n\\n#### XLA Rule #2: Your code cannot have “data-dependent shapes”\\n\\nWhat this means is that the shape of all of the `tf.Tensor` objects in your code cannot depend on their values. For example, the function `tf.unique` cannot be compiled with XLA, because it returns a `tensor` containing one instance of each unique value in the input. The shape of this output will obviously be different depending on how repetitive the input `Tensor` was, and so XLA refuses to handle it!\\n\\nIn general, most neural network code obeys rule #2 by default. However, there are a few common cases where it becomes a problem. One very common one is when you use **label masking**, setting your labels to a negative value to indicate that those positions should be ignored when computing the loss. If you look at NumPy or PyTorch loss functions that support label masking, you will often see code like this that uses [boolean indexing](https://numpy.org/doc/stable/user/basics.indexing.html#boolean-array-indexing):\\n\\n```python\\nlabel_mask = labels >= 0\\nmasked_outputs = outputs[label_mask]\\nmasked_labels = labels[label_mask]\\nloss = compute_loss(masked_outputs, masked_labels)\\nmean_loss = torch.mean(loss)\\n```\\n\\nThis code is totally fine in NumPy or PyTorch, but it breaks in XLA! Why? Because the shape of `masked_outputs` and `masked_labels` depends on how many positions are masked - that makes it a **data-dependent shape.** However, just like for rule #1, we can often rewrite this code to yield exactly the same output without any data-dependent shapes.\\n\\n```python\\nlabel_mask = tf.cast(labels >= 0, tf.float32)\\nloss = compute_loss(outputs, labels)\\nloss = loss * label_mask  # Set negative label positions to 0\\nmean_loss = tf.reduce_sum(loss) / tf.reduce_sum(label_mask)\\n```\\n\\nHere, we avoid data-dependent shapes by computing the loss for every position, but zeroing out the masked positions in both the numerator and denominator when we calculate the mean, which yields exactly the same result as the first block while maintaining XLA compatibility. Note that we use the same trick as in rule #1 - converting a `tf.bool` to `tf.float32` and using it as an indicator variable. This is a really useful trick, so remember it if you need to convert your own code to XLA!\\n\\n#### XLA Rule #3: XLA will need to recompile your model for every different input shape it sees\\n\\nThis is the big one. What this means is that if your input shapes are very variable, XLA will have to recompile your model over and over, which will create huge performance problems. This commonly arises in NLP models, where input texts have variable lengths after tokenization. In other modalities, static shapes are more common and this rule is much less of a problem.\\n\\nHow can you get around rule #3? The key is **padding** - if you pad all your inputs to the same length, and then use an `attention_mask`, you can get the same results as you’d get from variable shapes, but without any XLA issues. However, excessive padding can cause severe slowdown too - if you pad all your samples to the maximum length in the whole dataset, you might end up with batches consisting endless padding tokens, which will waste a lot of compute and memory!\\n\\nThere isn’t a perfect solution to this problem. However, you can try some tricks. One very useful trick is to **pad batches of samples up to a multiple of a number like 32 or 64 tokens.** This often only increases the number of tokens by a small amount, but it hugely reduces the number of unique input shapes, because every input shape now has to be a multiple of 32 or 64. Fewer unique input shapes means fewer XLA compilations!\\n\\n<Tip>\\n\\n**🤗Specific HuggingFace Tip🤗:** Our tokenizers and data collators have methods that can help you here. You can use `padding=\"max_length\"` or `padding=\"longest\"` when calling tokenizers to get them to output padded data. Our tokenizers and data collators also have a `pad_to_multiple_of` argument that you can use to reduce the number of unique input shapes you see!\\n\\n</Tip>\\n\\n### How do I actually train my model on TPU?\\n\\nOnce your training is XLA-compatible and (if you’re using TPU Node / Colab) your dataset has been prepared appropriately, running on TPU is surprisingly easy! All you really need to change in your code is to add a few lines to initialize your TPU, and to ensure that your model and dataset are created inside a `TPUStrategy` scope. Take a look at [our TPU example notebook](https://colab.research.google.com/github/huggingface/notebooks/blob/main/examples/tpu_training-tf.ipynb) to see this in action!\\n\\n### Summary\\n\\nThere was a lot in here, so let’s summarize with a quick checklist you can follow when you want to get your model ready for TPU training:\\n\\n- Make sure your code follows the three rules of XLA\\n- Compile your model with `jit_compile=True` on CPU/GPU and confirm that you can train it with XLA\\n- Either load your dataset into memory or use a TPU-compatible dataset loading approach (see [notebook](https://colab.research.google.com/github/huggingface/notebooks/blob/main/examples/tpu_training-tf.ipynb))\\n- Migrate your code either to Colab (with accelerator set to “TPU”) or a TPU VM on Google Cloud\\n- Add TPU initializer code (see [notebook](https://colab.research.google.com/github/huggingface/notebooks/blob/main/examples/tpu_training-tf.ipynb))\\n- Create your `TPUStrategy` and make sure dataset loading and model creation are inside the `strategy.scope()` (see [notebook](https://colab.research.google.com/github/huggingface/notebooks/blob/main/examples/tpu_training-tf.ipynb))\\n- Don’t forget to take `jit_compile=True` out again when you move to TPU!\\n- 🙏🙏🙏🥺🥺🥺\\n- Call model.fit()\\n- You did it!'"
      ]
     },
     "execution_count": 7,
     "metadata": {},
     "output_type": "execute_result"
    }
   ],
   "execution_count": 7
  },
  {
   "metadata": {},
   "cell_type": "code",
   "outputs": [],
   "execution_count": null,
   "source": "",
   "id": "26b06708c25ed1f6"
  }
 ],
 "metadata": {
  "kernelspec": {
   "display_name": "Python 3",
   "language": "python",
   "name": "python3"
  },
  "language_info": {
   "codemirror_mode": {
    "name": "ipython",
    "version": 2
   },
   "file_extension": ".py",
   "mimetype": "text/x-python",
   "name": "python",
   "nbconvert_exporter": "python",
   "pygments_lexer": "ipython2",
   "version": "2.7.6"
  }
 },
 "nbformat": 4,
 "nbformat_minor": 5
}
